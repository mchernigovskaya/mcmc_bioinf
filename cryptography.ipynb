{
 "cells": [
  {
   "cell_type": "code",
   "execution_count": 1,
   "metadata": {},
   "outputs": [],
   "source": [
    "import re \n",
    "import numpy as np\n",
    "import pandas as pd\n",
    "import random"
   ]
  },
  {
   "cell_type": "markdown",
   "metadata": {},
   "source": [
    "# Get letters freqs"
   ]
  },
  {
   "cell_type": "code",
   "execution_count": 2,
   "metadata": {
    "collapsed": true
   },
   "outputs": [],
   "source": [
    "letters_and_space = list(\"АБВГДЕЖЗИЙКЛМНОПРСТУФХЦЧШЩЪЫЬЭЮЯ \")\n",
    "letters = letters_and_space[:-1]"
   ]
  },
  {
   "cell_type": "code",
   "execution_count": 3,
   "metadata": {},
   "outputs": [],
   "source": [
    "ref = open(\"war_and_peace.txt\", 'r', encoding=\"cp1251\")\n",
    "\n",
    "def is_cyrillic(letter):\n",
    "    return bool(re.search('[А-Я]', letter))\n",
    "\n",
    "def get_freqs(ref):\n",
    "    q = dict.fromkeys(letters, 0)\n",
    "    q_matr = pd.DataFrame(np.zeros((len(letters_and_space), len(letters_and_space))), \n",
    "                          index=letters_and_space, columns=letters_and_space)\n",
    "    \n",
    "    next_c = ref.read(1).upper()\n",
    "    for i in range(10000):\n",
    "    #while True:\n",
    "        cur_c = next_c\n",
    "        next_c = ref.read(1).upper()\n",
    "        \n",
    "        if (is_cyrillic(cur_c)):\n",
    "            q[cur_c] += 1\n",
    "        \n",
    "        if ((is_cyrillic(cur_c) and is_cyrillic(next_c)) or\n",
    "            (is_cyrillic(cur_c) and next_c == ' ') or\n",
    "            (cur_c == ' ' and is_cyrillic(next_c))):\n",
    "            q_matr[cur_c][next_c] += 1\n",
    "\n",
    "    return q, q_matr\n",
    "    "
   ]
  },
  {
   "cell_type": "code",
   "execution_count": 4,
   "metadata": {},
   "outputs": [],
   "source": [
    "q, q_matr = get_freqs(ref)"
   ]
  },
  {
   "cell_type": "code",
   "execution_count": 5,
   "metadata": {
    "collapsed": true
   },
   "outputs": [],
   "source": [
    "def init_mapping():\n",
    "    letters_sort = sorted(letters)\n",
    "    random.shuffle(letters)\n",
    "    letters_shuffle = letters\n",
    "    return dict(zip(letters_sort, letters_shuffle))\n",
    "\n",
    "def decode(mapping, text):\n",
    "    decoded = list(text)\n",
    "    for i in range(len(decoded)):\n",
    "        if is_cyrillic(decoded[i]):\n",
    "            for let, code in mapping.items():\n",
    "                if code == text[i]:\n",
    "                    decoded[i] = let\n",
    "                    break\n",
    "        else:\n",
    "            decoded[i] = text[i]\n",
    "    return ''.join(decoded)"
   ]
  },
  {
   "cell_type": "code",
   "execution_count": 16,
   "metadata": {},
   "outputs": [
    {
     "name": "stdout",
     "output_type": "stream",
     "text": [
      "ДШЫХОГЩ ТХЩ ЪУИУА  ЦУ ЭЯОЬГИНЫГЦЖ ЦГ ЕСШЩОЗ ЫХ ЭЖУ ЬУЛЕЮОЖЮУЮШЩН ОИШДЕ КГ ГСЮШ ЬУОЖШЮНЮ ЬУОЩГСЦММ ЖУЛЯЕ ЦУ ЕКГ ЦНЛГФУ ЦГ ЫУФЩН ЬУСГЩШЖЧ ЦГ ЬГИГЬНОХЮШЖЧ КГ ЮОЁ ДШЦУЮУ Н ФЩШЮЦУГ СГЩУ ТХЩУ ЦГ Ю ЖУЫ ЛЖУ ШЮЖУИХ ЬЩУЪУ ЬУОЖШИШЩНОЧ НЩН ОЪШЩЖЕИНЩН ЦГЩЧДЗ ЦШИЕАШЖЧ ЮГЯУЮХГ ЯШЦУЦХ ЖШЯНЫ УТИШДУЫ ЯШЯ ЭЖУ ЬУДЮУЩНЩН ОГТГ ШТО ЭЯОЬГИНЫГЦЖ ЦГ ЕСШЩОЗ ЬУЖУЫЕ ЛЖУ ЦГ ЫУФ ЕСШЖЧОЗ ЦНЯУФСШ ЦН ЬИН ЯШЯНЪ ОЖШИШЦНЗЪ ЕЪНПИГЦНЗЪ Н ЦШЫ УОЖШЮШЩУОЧ ЖУЩЧЯУ ЕЖГАШЖЧОЗ ЫХОЩЧМ ЛЖУ ЛЖГЦНГ ЮОE ИШЮЦУ ЯШЯ ЦШЫ ЯШДШЩУОЧ ЬУЩЕЛНЩУОЧ ЕЮЩГЯШЖГЩЧЦУГ\n",
      "\n",
      "\n",
      "ЗАМЫСЕЛ БЫЛ ХОРОШ  НО ЭКСПЕРИМЕНТ НЕ УДАЛСЯ МЫ ЭТО ПОЧУВСТВОВАЛИ СРАЗУ ЖЕ ЕДВА ПОСТАВИВ ПОСЛЕДНЮЮ ТОЧКУ НО УЖЕ НИЧЕГО НЕ МОГЛИ ПОДЕЛАТЬ НЕ ПЕРЕПИСЫВАТЬ ЖЕ ВСЁ ЗАНОВО И ГЛАВНОЕ ДЕЛО БЫЛО НЕ В ТОМ ЧТО АВТОРЫ ПЛОХО ПОСТАРАЛИСЬ ИЛИ СХАЛТУРИЛИ НЕЛЬЗЯ НАРУШАТЬ ВЕКОВЫЕ КАНОНЫ ТАКИМ ОБРАЗОМ КАК ЭТО ПОЗВОЛИЛИ СЕБЕ АБС ЭКСПЕРИМЕНТ НЕ УДАЛСЯ ПОТОМУ ЧТО НЕ МОГ УДАТЬСЯ НИКОГДА НИ ПРИ КАКИХ СТАРАНИЯХ УХИЩРЕНИЯХ И НАМ ОСТАВАЛОСЬ ТОЛЬКО УТЕШАТЬСЯ МЫСЛЬЮ ЧТО ЧТЕНИЕ ВСE РАВНО КАК НАМ КАЗАЛОСЬ ПОЛУЧИЛОСЬ УВЛЕКАТЕЛЬНОЕ\n"
     ]
    }
   ],
   "source": [
    "text = \"Замысел был хорош  но эксперимент не удался Мы это почувствовали сразу же едва поставив последнюю точку но уже ничего не могли поделать Не переписывать же всё заново И главное дело было не в том что авторы плохо постарались или схалтурили Нельзя нарушать вековые каноны таким образом как это позволили себе АБС Эксперимент не удался потому что не мог удаться Никогда Ни при каких стараниях ухищрениях И нам оставалось только утешаться мыслью что чтение всe равно как нам казалось получилось увлекательное\".upper()\n",
    "\n",
    "def get_secret_text(text, mapping):\n",
    "    text_list = list(text)\n",
    "    secret_text = []\n",
    "    for letter in text_list:\n",
    "        if is_cyrillic(letter): \n",
    "            secret_text.append(mapping[letter])\n",
    "        else:\n",
    "            secret_text.append(letter)\n",
    "    return ''.join(secret_text)\n",
    "        \n",
    "mapping = init_mapping()\n",
    "secret_text = get_secret_text(text, mapping)\n",
    "\n",
    "print(secret_text)\n",
    "print(\"\\n\")\n",
    "print(decode(mapping, secret_text))"
   ]
  },
  {
   "cell_type": "markdown",
   "metadata": {},
   "source": [
    "# Stupid approach"
   ]
  },
  {
   "cell_type": "code",
   "execution_count": 7,
   "metadata": {},
   "outputs": [],
   "source": [
    "import operator\n",
    "q_sorted = sorted(q.items(), key=operator.itemgetter(1), reverse=True)"
   ]
  },
  {
   "cell_type": "code",
   "execution_count": 8,
   "metadata": {},
   "outputs": [
    {
     "data": {
      "text/plain": [
       "[('О', 669),\n",
       " ('А', 556),\n",
       " ('Е', 523),\n",
       " ('Н', 473),\n",
       " ('И', 410),\n",
       " ('Т', 352),\n",
       " ('В', 309),\n",
       " ('С', 297),\n",
       " ('Л', 267),\n",
       " ('Р', 247),\n",
       " ('К', 203),\n",
       " ('Д', 168),\n",
       " ('М', 166),\n",
       " ('П', 152),\n",
       " ('Я', 152),\n",
       " ('У', 139),\n",
       " ('З', 125),\n",
       " ('Ы', 121),\n",
       " ('Ь', 112),\n",
       " ('Ч', 112),\n",
       " ('Г', 110),\n",
       " ('Й', 93),\n",
       " ('Б', 90),\n",
       " ('Ж', 55),\n",
       " ('Ю', 54),\n",
       " ('Х', 51),\n",
       " ('Ш', 49),\n",
       " ('Ц', 31),\n",
       " ('Э', 15),\n",
       " ('Щ', 14),\n",
       " ('Ф', 9),\n",
       " ('Ъ', 2)]"
      ]
     },
     "execution_count": 8,
     "metadata": {},
     "output_type": "execute_result"
    }
   ],
   "source": [
    "q_sorted"
   ]
  },
  {
   "cell_type": "code",
   "execution_count": 9,
   "metadata": {},
   "outputs": [],
   "source": [
    "def get_freqs_from_secrete_text(secret_text):\n",
    "    q = dict.fromkeys(letters, 0)\n",
    "    for i in range(len(secret_text)):\n",
    "        if is_cyrillic(secret_text[i]):\n",
    "            q[secret_text[i].upper()] += 1\n",
    "    return q"
   ]
  },
  {
   "cell_type": "code",
   "execution_count": 10,
   "metadata": {},
   "outputs": [],
   "source": [
    "q_secret = get_freqs_from_secrete_text(secret_text)\n",
    "q_secret_sorted = sorted(q_secret.items(), key=operator.itemgetter(1), reverse=True)"
   ]
  },
  {
   "cell_type": "code",
   "execution_count": 11,
   "metadata": {},
   "outputs": [],
   "source": [
    "mapping = dict(zip([let for (let, freq) in q_sorted], [let for (let, freq) in q_secret_sorted]))"
   ]
  },
  {
   "cell_type": "code",
   "execution_count": 12,
   "metadata": {},
   "outputs": [
    {
     "data": {
      "text/plain": [
       "'ЬАПУСЕИ БУИ ЧОДОХ  ТО ЖРСМЕДВПЕТН ТЕ КЗАИСГ ПУ ЖНО МОЫКЛСНЛОЛАИВ СДАЬК ШЕ ЕЗЛА МОСНАЛВЛ МОСИЕЗТЮЮ НОЫРК ТО КШЕ ТВЫЕЙО ТЕ ПОЙИВ МОЗЕИАНЯ ТЕ МЕДЕМВСУЛАНЯ ШЕ ЛСЁ ЬАТОЛО В ЙИАЛТОЕ ЗЕИО БУИО ТЕ Л НОП ЫНО АЛНОДУ МИОЧО МОСНАДАИВСЯ ВИВ СЧАИНКДВИВ ТЕИЯЬГ ТАДКХАНЯ ЛЕРОЛУЕ РАТОТУ НАРВП ОБДАЬОП РАР ЖНО МОЬЛОИВИВ СЕБЕ АБС ЖРСМЕДВПЕТН ТЕ КЗАИСГ МОНОПК ЫНО ТЕ ПОЙ КЗАНЯСГ ТВРОЙЗА ТВ МДВ РАРВЧ СНАДАТВГЧ КЧВЦДЕТВГЧ В ТАП ОСНАЛАИОСЯ НОИЯРО КНЕХАНЯСГ ПУСИЯЮ ЫНО ЫНЕТВЕ ЛСE ДАЛТО РАР ТАП РАЬАИОСЯ МОИКЫВИОСЯ КЛИЕРАНЕИЯТОЕ'"
      ]
     },
     "execution_count": 12,
     "metadata": {},
     "output_type": "execute_result"
    }
   ],
   "source": [
    "decode(mapping, secret_text)"
   ]
  },
  {
   "cell_type": "markdown",
   "metadata": {},
   "source": [
    "# MCMC approach"
   ]
  },
  {
   "cell_type": "code",
   "execution_count": 13,
   "metadata": {},
   "outputs": [],
   "source": [
    "def MCMC(n_steps):\n",
    "    mapping = init_mapping() # letter -> code\n",
    "    \n",
    "    # your MCMC code here\n",
    "    \n",
    "    return decode(mapping, secret_text)\n",
    "\n"
   ]
  },
  {
   "cell_type": "code",
   "execution_count": null,
   "metadata": {
    "collapsed": true
   },
   "outputs": [],
   "source": []
  }
 ],
 "metadata": {
  "anaconda-cloud": {},
  "kernelspec": {
   "display_name": "Python [conda env:anaconda3]",
   "language": "python",
   "name": "conda-env-anaconda3-py"
  },
  "language_info": {
   "codemirror_mode": {
    "name": "ipython",
    "version": 3
   },
   "file_extension": ".py",
   "mimetype": "text/x-python",
   "name": "python",
   "nbconvert_exporter": "python",
   "pygments_lexer": "ipython3",
   "version": "3.5.2"
  }
 },
 "nbformat": 4,
 "nbformat_minor": 2
}
