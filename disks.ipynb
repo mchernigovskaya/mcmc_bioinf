{
 "cells": [
  {
   "cell_type": "code",
   "execution_count": null,
   "metadata": {
    "collapsed": true,
    "nbpresent": {
     "id": "6391debc-6e3e-4204-be59-6d84d43ab3a3"
    },
    "slideshow": {
     "slide_type": "-"
    }
   },
   "outputs": [],
   "source": [
    "from numpy.random import uniform, randint\n",
    "from math import sqrt, pi\n",
    "import cmath \n",
    "from collections import namedtuple\n",
    "%matplotlib inline\n",
    "import matplotlib.pyplot as plt\n",
    "\n",
    "import numpy as np"
   ]
  },
  {
   "cell_type": "markdown",
   "metadata": {},
   "source": [
    "# Parameters"
   ]
  },
  {
   "cell_type": "code",
   "execution_count": null,
   "metadata": {
    "collapsed": true,
    "nbpresent": {
     "id": "6bad18e9-68ab-4ab7-810f-f1304b713b6b"
    }
   },
   "outputs": [],
   "source": [
    "N = 200 # approximate number of disks \n",
    "η =  0.7 # density\n",
    "r = sqrt(η / (N * pi)) # radius \n",
    "ε = 0.2 * r # shift"
   ]
  },
  {
   "cell_type": "markdown",
   "metadata": {},
   "source": [
    "# Initial configuration"
   ]
  },
  {
   "cell_type": "code",
   "execution_count": null,
   "metadata": {
    "collapsed": true
   },
   "outputs": [],
   "source": [
    "Point = namedtuple('Point', 'x y')"
   ]
  },
  {
   "cell_type": "code",
   "execution_count": null,
   "metadata": {
    "collapsed": true
   },
   "outputs": [],
   "source": [
    "def init_centers_honeycomb():\n",
    "    centers = []\n",
    "    k = int(sqrt(2.0 * N / sqrt(3.0)))\n",
    "    l = int(k * sqrt(3.0) / 2.0 + 0.5)\n",
    "    for i in range(k):\n",
    "        for j in range(l):\n",
    "            centers.append(Point((2.0 * i + 1.0)/(2.0 * k), (2.0 * j + 1.0 + (i % 2))/(2.0 * l)))    \n",
    "    return centers\n",
    "\n",
    "def init_centers_grid():\n",
    "    centers = []\n",
    "    N_sqrt = round(sqrt(N))\n",
    "    for i in range(N_sqrt):\n",
    "        for j in range(N_sqrt):\n",
    "            centers.append(Point((2.0 * i) / (2.0 * N_sqrt), 2.0 * j / (2.0 * N_sqrt)))    \n",
    "    return centers\n",
    "\n",
    "def show_configuration(centers, r):\n",
    "    fig = plt.figure(figsize=(6, 6))\n",
    "    for i in range(len(centers)):\n",
    "        center = centers[i]\n",
    "        for ix in range(-1, 2):\n",
    "            for iy in range(-1, 2):\n",
    "                plt.gca().add_patch(plt.Circle((center.x + ix, center.y + iy), radius = r,  fc = 'r'))\n",
    "    plt.axis('scaled')\n",
    "    plt.axis([0.0, 1.0, 0.0, 1.0])"
   ]
  },
  {
   "cell_type": "code",
   "execution_count": null,
   "metadata": {},
   "outputs": [],
   "source": [
    "show_configuration(init_centers_honeycomb(), r)"
   ]
  },
  {
   "cell_type": "code",
   "execution_count": null,
   "metadata": {},
   "outputs": [],
   "source": [
    "show_configuration(init_centers_grid(), r)"
   ]
  },
  {
   "cell_type": "markdown",
   "metadata": {},
   "source": [
    "# MCMC Sampling"
   ]
  },
  {
   "cell_type": "code",
   "execution_count": null,
   "metadata": {
    "collapsed": true,
    "nbpresent": {
     "id": "5c94f898-2225-4456-a104-52b4b7bd1d6b"
    }
   },
   "outputs": [],
   "source": [
    "def dist(pt1, pt2): # on torus\n",
    "    d_x = abs(pt1.x - pt2.x) % 1.0\n",
    "    d_x = min(d_x, 1.0 - d_x)\n",
    "    d_y = abs(pt1.y - pt2.y) % 1.0\n",
    "    d_y = min(d_y, 1.0 - d_y)\n",
    "    return  sqrt(d_x**2 + d_y**2)"
   ]
  },
  {
   "cell_type": "code",
   "execution_count": null,
   "metadata": {
    "collapsed": true
   },
   "outputs": [],
   "source": [
    "def move_center(cur_center, ε):\n",
    "    return Point((cur_center.x + uniform(-ε, ε)) % 1.0, (cur_center.y + uniform(-ε, ε)) % 1.0)\n",
    "\n",
    "def MCMC(n_steps):\n",
    "    centers = init_centers_grid() \n",
    "    #centers = init_centers_honeycomb()\n",
    "    for step in range(n_steps):\n",
    "        rand_idx = randint(len(centers))\n",
    "        cur_center = centers[rand_idx]\n",
    "        new_center = move_center(cur_center, ε)\n",
    "        \n",
    "        min_dist = min(dist(new_center, c) for c in centers if c != cur_center)\n",
    "        if (min_dist >= 2.0 * r):\n",
    "            centers[rand_idx] = new_center\n",
    "    return centers"
   ]
  },
  {
   "cell_type": "code",
   "execution_count": null,
   "metadata": {},
   "outputs": [],
   "source": [
    "centers = MCMC(5000)\n",
    "show_configuration(centers, r)"
   ]
  },
  {
   "cell_type": "code",
   "execution_count": null,
   "metadata": {
    "collapsed": true
   },
   "outputs": [],
   "source": []
  },
  {
   "cell_type": "code",
   "execution_count": null,
   "metadata": {
    "collapsed": true
   },
   "outputs": [],
   "source": []
  }
 ],
 "metadata": {
  "anaconda-cloud": {},
  "kernelspec": {
   "display_name": "Python [conda env:anaconda3]",
   "language": "python",
   "name": "conda-env-anaconda3-py"
  },
  "language_info": {
   "codemirror_mode": {
    "name": "ipython",
    "version": 3
   },
   "file_extension": ".py",
   "mimetype": "text/x-python",
   "name": "python",
   "nbconvert_exporter": "python",
   "pygments_lexer": "ipython3",
   "version": "3.5.2"
  }
 },
 "nbformat": 4,
 "nbformat_minor": 2
}
