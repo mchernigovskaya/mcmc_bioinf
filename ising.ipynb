{
 "cells": [
  {
   "cell_type": "code",
   "execution_count": 87,
   "metadata": {
    "collapsed": true
   },
   "outputs": [],
   "source": [
    "import matplotlib\n",
    "import numpy as np\n",
    "import matplotlib.pyplot as plt\n",
    "%matplotlib inline"
   ]
  },
  {
   "cell_type": "code",
   "execution_count": 82,
   "metadata": {
    "collapsed": true
   },
   "outputs": [],
   "source": [
    "def init_lattice(n):\n",
    "    lattice = np.random.choice([1, -1], size=(n, n))   \n",
    "    #Boundary Condition        \n",
    "    lattice[:, 0] = 1\n",
    "    lattice[0, 0 : round(n/2)] = 1\n",
    "    lattice[n-1, 0 : round(n/2)] = 1    \n",
    "    lattice[:, n-1] = -1\n",
    "    lattice[0, round(n/2) : n] = -1\n",
    "    lattice[n-1, round(n/2) : n] = -1    \n",
    "    return lattice\n",
    "\n",
    "\n",
    "def deltaE(lattice, i, j, J, H):\n",
    "    neigbours_sum = lattice[i - 1, j] + lattice[i + 1, j] + lattice[i, j - 1] + lattice[i, j + 1]\n",
    "    return lattice[i, j] * (H + J * neigbours_sum)\n",
    "\n",
    "\n",
    "def ising(n_lattice=20, nsteps=5000, T=0.01, H=0, J=1): \n",
    "    lattice = init_lattice(n_lattice)\n",
    "    \n",
    "    # your MCMC code here\n",
    "    \n",
    "    return lattice\n",
    "    "
   ]
  },
  {
   "cell_type": "code",
   "execution_count": 85,
   "metadata": {
    "collapsed": true
   },
   "outputs": [],
   "source": [
    "lattice = ising(n_lattice=20, nsteps = 100, T=1, n_lat=10000)"
   ]
  },
  {
   "cell_type": "code",
   "execution_count": 88,
   "metadata": {},
   "outputs": [
    {
     "data": {
      "image/png": "[encoded data removed]",
      "text/plain": [
       "<matplotlib.figure.Figure at 0x7f297ea37b00>"
      ]
     },
     "metadata": {},
     "output_type": "display_data"
    }
   ],
   "source": [
    "fig = plt.figure(figsize=(6,6))\n",
    "im = plt.imshow(lattice, interpolation='nearest', origin='lower')"
   ]
  },
  {
   "cell_type": "code",
   "execution_count": null,
   "metadata": {
    "collapsed": true
   },
   "outputs": [],
   "source": []
  }
 ],
 "metadata": {
  "anaconda-cloud": {},
  "kernelspec": {
   "display_name": "Python [conda root]",
   "language": "python",
   "name": "conda-root-py"
  },
  "language_info": {
   "codemirror_mode": {
    "name": "ipython",
    "version": 3
   },
   "file_extension": ".py",
   "mimetype": "text/x-python",
   "name": "python",
   "nbconvert_exporter": "python",
   "pygments_lexer": "ipython3",
   "version": "3.5.2"
  }
 },
 "nbformat": 4,
 "nbformat_minor": 2
}
